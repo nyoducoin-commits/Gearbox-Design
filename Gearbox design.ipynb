{
 "cells": [
  {
   "cell_type": "markdown",
   "id": "20935ed3",
   "metadata": {},
   "source": [
    "#  Gearbox Design -  Mathijs Van Rompaey, Nyo Ducoin, Felix Lots"
   ]
  },
  {
   "cell_type": "markdown",
   "id": "0b72021b",
   "metadata": {},
   "source": [
    "![image](./images/fig_motor_gearbox.png)"
   ]
  },
  {
   "cell_type": "code",
   "execution_count": 87,
   "id": "e14aa486-8cb0-49bf-ae19-9391fd419904",
   "metadata": {},
   "outputs": [],
   "source": [
    "# import statements\n",
    "import sympy as sp\n",
    "import numpy as np\n",
    "import matplotlib.pyplot as plt\n",
    "\n",
    "import rm_python_lib.MechDesign.Helpers as HM\n",
    "\n",
    "from rm_python_lib.MechDesign.Units.Units import m_, mm_, kg_, s_, N_, rpm_, W_, deg_\n",
    "#('kg_', 'm_', 'dm_', 'cm_', 'mm_', 'mu_m_', 'N_' ,'rpm_' , 's_' ,'W_' ,'Pa_', 'deg_', 'h_')\n",
    "import rm_python_lib.MechDesign.Units.UnitMethods as UM\n",
    "\n",
    "import rm_python_lib.MechDesign.RnM as RnM\n",
    "\n"
   ]
  },
  {
   "cell_type": "markdown",
   "id": "e5a3470b",
   "metadata": {},
   "source": [
    "## gegevens"
   ]
  },
  {
   "cell_type": "code",
   "execution_count": 88,
   "id": "0c6f5858",
   "metadata": {},
   "outputs": [
    {
     "data": {
      "text/latex": [
       "$\\displaystyle n_{motor} = 1500.0 rpm_{}$"
      ],
      "text/plain": [
       "Eq(n_motor, 1500.0*rpm_)"
      ]
     },
     "metadata": {},
     "output_type": "display_data"
    },
    {
     "data": {
      "text/latex": [
       "$\\displaystyle I_{belt gear} = 0.6$"
      ],
      "text/plain": [
       "Eq(I_belt_gear, 0.6)"
      ]
     },
     "metadata": {},
     "output_type": "display_data"
    },
    {
     "data": {
      "text/latex": [
       "$\\displaystyle v_{kar} = 14$"
      ],
      "text/plain": [
       "Eq(v_kar, 14)"
      ]
     },
     "metadata": {},
     "output_type": "display_data"
    },
    {
     "data": {
      "text/latex": [
       "$\\displaystyle d_{sprocket} = 400.0 mm_{}$"
      ],
      "text/plain": [
       "Eq(d_sprocket, 400.0*mm_)"
      ]
     },
     "metadata": {},
     "output_type": "display_data"
    },
    {
     "data": {
      "text/latex": [
       "$\\displaystyle P_{output} = 3000.0 W_{}$"
      ],
      "text/plain": [
       "Eq(P_output, 3000.0*W_)"
      ]
     },
     "metadata": {},
     "output_type": "display_data"
    }
   ],
   "source": [
    "n_motor = 1500 * rpm_ \n",
    "I_belt_gear = 3/5\n",
    "v_kar = 14 # km/h\n",
    "d_sprocket = 400 * mm_\n",
    "P_output = 3000 * W_\n",
    "\n",
    "\n",
    "HM.EqPrint('n_motor',n_motor.evalf())\n",
    "HM.EqPrint('I_belt_gear',I_belt_gear)\n",
    "HM.EqPrint('v_kar',v_kar)\n",
    "HM.EqPrint('d_sprocket',d_sprocket.evalf())\n",
    "HM.EqPrint('P_output',P_output.evalf())\n",
    "\n",
    "end=1"
   ]
  },
  {
   "cell_type": "code",
   "execution_count": 89,
   "id": "02ae2be8-bc53-4cce-84d7-fabbaaa0241f",
   "metadata": {},
   "outputs": [
    {
     "name": "stdout",
     "output_type": "stream",
     "text": [
      "Help on class Belt in module rm_python_lib.MechDesign.RnM.C16_Belt:\n",
      "\n",
      "class Belt(builtins.object)\n",
      " |  Methods defined here:\n",
      " |\n",
      " |  E16_00A_ToothForce(self)\n",
      " |      T_max / (d_d / 2)\n",
      " |      can be found after bending frequency (E16_37), in belt force section\n",
      " |      reference values in tabel {16-19c}\n",
      " |\n",
      " |  E16_10_TransmissionRatioApprox(self)\n",
      " |      i = d_2 / d_1\n",
      " |\n",
      " |  E16_11_TensionPulling(self)\n",
      " |      simga_1 = F_1 / A_S\n",
      " |\n",
      " |  E16_12_TensionBending(self)\n",
      " |      sigma_b = E_b * t / d_1\n",
      " |      d is replaced with d_1, the smaller of the two disks\n",
      " |\n",
      " |  E16_13A_TensionCentrifugal(self)\n",
      " |      sigma_c = F_c / A_s\n",
      " |\n",
      " |  E16_13B_TensionCentrifugal(self)\n",
      " |      sigma_c = rho v**2\n",
      " |\n",
      " |  E16_14B1_TensionCrossingBelt(self)\n",
      " |      sigma_S = E_b * (b / e)** 2\n",
      " |      the value of E is set to E_b\n",
      " |\n",
      " |  E16_14B2_TensionHalfCrossingBelt(self)\n",
      " |      sigma_S = E_b * b * d_2 / (2 *e**2)\n",
      " |      the value of E is set to E_b\n",
      " |\n",
      " |  E16_14_TensionTotal(self)\n",
      " |      sigma_tot = sigma_1 + sigma_b + sigma_c\n",
      " |\n",
      " |  E16_15A_TensionUseable(self)\n",
      " |      sigma_N = sigma_1 - sigma_2\n",
      " |\n",
      " |  E16_15B_TensionUseable(self)\n",
      " |      simga_N = sigma_1 * kappa\n",
      " |\n",
      " |  E16_17_TransmittablePower(self)\n",
      " |      P = (sigma_max - E_b * (t/d_1)-rho*(v**2)*E-3)*kappa*b*t*v\n",
      " |      P will be calculated in W and not KW (as is inidicated in the table below the formula in the book)\n",
      " |\n",
      " |  E16_18A_OptimalSpeed(self)\n",
      " |      v_opt = sqrt(1E3*(sigma_max-E_b*(t/d_1))/(3)*rho)\n",
      " |\n",
      " |  E16_18B_OptimalSpeed(self)\n",
      " |      v_opt = sqrt(1E3*(sigma_max-sigma_b)/(3*rho))\n",
      " |\n",
      " |  E16_19A_TransmissionRatio(self)\n",
      " |      i = d_dg / d_dk\n",
      " |      applies to flat and V belts\n",
      " |\n",
      " |  E16_19B_TransmissionRatio(self)\n",
      " |      i = z_g/z_k\n",
      " |      applies to toothed belts\n",
      " |\n",
      " |  E16_1B_Set2muprime(self)\n",
      " |      muprime = mu / sin(alpha/2 )\n",
      " |      remeber convertion from ° to rad\n",
      " |      be carefull when using this function\n",
      " |      you can easily create an unwanted loop e.g.\n",
      " |      b.mu = b.E16_1B_SetMuprime\n",
      " |      will create a loop because self.mu is inside of the equation itself\n",
      " |      solution is to add an explicit reïnitialisation to the symbol mu\n",
      " |      b.muprime = b.E16_1B_SetMuprime\n",
      " |      b.mu = b.muprime\n",
      " |\n",
      " |  E16_1_FrictionForce(self, MyHelp=False)\n",
      " |      F_t = mu * F_N\n",
      " |\n",
      " |  E16_20A_LargeDiskDiameter(self)\n",
      " |      d_dg = i * d_dk\n",
      " |      applies to flat and V belts\n",
      " |\n",
      " |  E16_20B_LargeDiskDiameter(self)\n",
      " |      d_dg = i * p / pi * z_k\n",
      " |      applies to toothed belt\n",
      " |\n",
      " |  E16_21A_ShaftDistanceLowerLimit(self)\n",
      " |      eprime = 0.7 * (d_dg + d_dk)\n",
      " |      applies to flat and V belts\n",
      " |\n",
      " |  E16_21B_ShaftDistanceLowerLimit(self)\n",
      " |      eprime = 0.5 * (d_dg + d_dk) +15\n",
      " |      applies to flat and V belts\n",
      " |\n",
      " |  E16_21_ShaftDistanceUpperLimit(self)\n",
      " |      eprime = 2 * (d_dg + d_dk)\n",
      " |\n",
      " |  E16_22_FinalShaftDistance(self)\n",
      " |      e = L_d/4 - pi/8 * (d_dg+d_dk) + sqrt( (L_d/4 - pi/8 * (d_dg+d_dk))**2 - ((d_dg-d_dk)**2)/8 )\n",
      " |\n",
      " |  E16_23_TheoreticalBeltLength(self)\n",
      " |      Lprime = 2 * eprime  + pi/2*(d_dg+d_dk) + ((d_dg-d_dl)**2)/(4*eprime)\n",
      " |\n",
      " |  E16_24A_circumfranceAngle(self)\n",
      " |      beta_k = 2 * acos((d_dg - d_dk)/(2*e))\n",
      " |      applies to flat and V belts\n",
      " |\n",
      " |  E16_24B_circumfranceAngle(self)\n",
      " |      beta_k = 2 * acos(p/pi*(z_g - z_k)/(2*e))\n",
      " |      applies to toothed belt\n",
      " |\n",
      " |  E16_25A_TensioningLength(self)\n",
      " |      x = 0.03* L\n",
      " |      applies to flat and V belts\n",
      " |\n",
      " |  E16_25B_TensioningLength(self)\n",
      " |      x = 0.005 * L\n",
      " |      applies to toothed belt\n",
      " |\n",
      " |  E16_26A_MountingLength(self)\n",
      " |      y = 0.015 * L\n",
      " |      applies to flat and V belts\n",
      " |\n",
      " |  E16_26B_MountingLength(self)\n",
      " |      y = 1 * p\n",
      " |      applies to toothed flat belt and V belts\n",
      " |      a minimum value of 1 is implemented, indictated to be between 1 and 2.5 times p\n",
      " |\n",
      " |  E16_27_FrictionForce(self)\n",
      " |      F_t = Pprime / v\n",
      " |\n",
      " |  E16_28_BeltWidth(self)\n",
      " |      bprime = F_t /  Fprime_t\n",
      " |      applies to flat belt\n",
      " |\n",
      " |  E16_29_NumberOfBelts(self)\n",
      " |      z = Pprime / ( (P__N + U__z)*c_1*c_2)\n",
      " |      applies to V belts an poly V belts\n",
      " |\n",
      " |  E16_2_CircumferenceForce(self)\n",
      " |      F_t = F_1 - F_2\n",
      " |\n",
      " |  E16_30_NumberOfInteractingTeeth(self)\n",
      " |      z_i = z_k * beta_k / 360\n",
      " |\n",
      " |  E16_31_MinimumBeltWidth(self)\n",
      " |      b >= Pprime / (z_k*z_i*T_spec)\n",
      " |      applies to Toothed Belt\n",
      " |\n",
      " |  E16_32_MinimumBeltWidth(self)\n",
      " |      b >= T_max / ( z_k * z_i * T_spec)\n",
      " |      applies to Toothed Belt\n",
      " |\n",
      " |  E16_33B_AxleLoad(self)\n",
      " |      F_a = k * F_t\n",
      " |\n",
      " |  E16_33_AxleLoad(self)\n",
      " |      F_a = sqrt(F_1**2 + F_2**2-2*F_1*F_2*cos(beta_k))\n",
      " |\n",
      " |  E16_34_AxleLoad(self)\n",
      " |      F_aO =(epsilon_1+epsilon2)*k_1**bprime\n",
      " |\n",
      " |  E16_35_AxleLoadValeus(self)\n",
      " |      the limts on F_a0 can be found in expression 16_35\n",
      " |\n",
      " |  E16_36B_EffectiveDiameter(self)\n",
      " |      d_w = d + t\n",
      " |      applies to Extremultus belt {tabel 16-6}\n",
      " |\n",
      " |  E16_36C_EffectiveDiameter(self)\n",
      " |      d_w = d_d + 2*h_b\n",
      " |      applies to poly V belt\n",
      " |\n",
      " |  E16_36_BeltSpeed(self)\n",
      " |      v = d_w * pi * n\n",
      " |\n",
      " |  E16_37_BendingFrequency(self)\n",
      " |      f_B = v * zz / L_d\n",
      " |\n",
      " |  E16_3_Eytelwein(self)\n",
      " |      m = exp (mu*beta1)\n",
      " |\n",
      " |  E16_4B_kappa(self)\n",
      " |      kappa = (m -1) / m\n",
      " |\n",
      " |  E16_4_CircumferenceForce(self)\n",
      " |      F_t_formula = F_1 * kappa\n",
      " |\n",
      " |  E16_5_CentrifugalForce(self)\n",
      " |      F_c = A_S * 1E-6 * 1E3 * rho * v**2\n",
      " |\n",
      " |  E16_6B_AxleLoad(self)\n",
      " |      F_a = k * F_t\n",
      " |\n",
      " |  E16_6_AxleLoad(self)\n",
      " |      F_a = F_t *  sqrt( m**2 + 1 -2 * m * cos( beta_1 / 180 * pi ) ) / ( m - 1 )\n",
      " |\n",
      " |  E16_7_TotalAxleLoad(self)\n",
      " |      F_a0 = F_a + F_c\n",
      " |\n",
      " |  E16_8_BeltSlip(self)\n",
      " |      psi = 100 * ( v_1 - v_2 ) / v_2\n",
      " |\n",
      " |  E16_9_TransmissionRatio(self)\n",
      " |      i = ( d_2 + 1E-3 * t ) / (d_1 + 1E-3 * t ) * 100 / ( 100 - psi )\n",
      " |\n",
      " |  __init__(self)\n",
      " |      Initialize self.  See help(type(self)) for accurate signature.\n",
      " |\n",
      " |  ----------------------------------------------------------------------\n",
      " |  Data descriptors defined here:\n",
      " |\n",
      " |  A_S\n",
      " |\n",
      " |  E_b\n",
      " |\n",
      " |  F_1\n",
      " |\n",
      " |  F_2\n",
      " |\n",
      " |  F_N\n",
      " |\n",
      " |  F_a\n",
      " |\n",
      " |  F_a0\n",
      " |\n",
      " |  F_c\n",
      " |\n",
      " |  F_max\n",
      " |\n",
      " |  F_t\n",
      " |\n",
      " |  Fprime_t\n",
      " |\n",
      " |  K_A\n",
      " |\n",
      " |  L\n",
      " |\n",
      " |  L_d\n",
      " |\n",
      " |  Lprime\n",
      " |\n",
      " |  P\n",
      " |\n",
      " |  P_N\n",
      " |\n",
      " |  P_spec\n",
      " |\n",
      " |  Pprime\n",
      " |\n",
      " |  T_1\n",
      " |\n",
      " |  T_2\n",
      " |\n",
      " |  T_max\n",
      " |\n",
      " |  T_nom\n",
      " |\n",
      " |  T_spec\n",
      " |\n",
      " |  U_z\n",
      " |\n",
      " |  alpha\n",
      " |\n",
      " |  b\n",
      " |\n",
      " |  beta_1\n",
      " |\n",
      " |  beta_k\n",
      " |\n",
      " |  bprime\n",
      " |\n",
      " |  c_1\n",
      " |\n",
      " |  c_2\n",
      " |\n",
      " |  d_1\n",
      " |\n",
      " |  d_2\n",
      " |\n",
      " |  d_d\n",
      " |\n",
      " |  d_dg\n",
      " |\n",
      " |  d_dk\n",
      " |\n",
      " |  d_w\n",
      " |\n",
      " |  e\n",
      " |\n",
      " |  eprime\n",
      " |\n",
      " |  eprime_LL\n",
      " |\n",
      " |  eprime_UL\n",
      " |\n",
      " |  epsilon_1\n",
      " |\n",
      " |  epsilon_2\n",
      " |\n",
      " |  epsilon_tot\n",
      " |\n",
      " |  eta\n",
      " |\n",
      " |  f_B\n",
      " |\n",
      " |  h_b\n",
      " |\n",
      " |  i\n",
      " |\n",
      " |  k\n",
      " |\n",
      " |  k_1\n",
      " |\n",
      " |  kappa\n",
      " |\n",
      " |  m\n",
      " |\n",
      " |  mu\n",
      " |\n",
      " |  muprime\n",
      " |\n",
      " |  n\n",
      " |\n",
      " |  n_1\n",
      " |\n",
      " |  n_2\n",
      " |\n",
      " |  p\n",
      " |\n",
      " |  psi\n",
      " |\n",
      " |  rho\n",
      " |\n",
      " |  sigma_1\n",
      " |\n",
      " |  sigma_2\n",
      " |\n",
      " |  sigma_N\n",
      " |\n",
      " |  sigma_S\n",
      " |\n",
      " |  sigma_b\n",
      " |\n",
      " |  sigma_c\n",
      " |\n",
      " |  sigma_max\n",
      " |\n",
      " |  sigma_tot\n",
      " |\n",
      " |  t\n",
      " |\n",
      " |  v\n",
      " |\n",
      " |  v_1\n",
      " |\n",
      " |  v_2\n",
      " |\n",
      " |  v_opt\n",
      " |\n",
      " |  x\n",
      " |\n",
      " |  y\n",
      " |\n",
      " |  z\n",
      " |\n",
      " |  z_g\n",
      " |\n",
      " |  z_i\n",
      " |\n",
      " |  z_k\n",
      " |\n",
      " |  zz\n",
      " |\n",
      " |  ----------------------------------------------------------------------\n",
      " |  Data and other attributes defined here:\n",
      " |\n",
      " |  MySymbolDict = {'A_S': '[mm²] belt cross section ', 'E_b': '[N/mm²] id...\n",
      "\n"
     ]
    }
   ],
   "source": [
    "#UM.PrintAvailableUnits()\n",
    "#help(UM)\n",
    "#help(RnM)\n",
    "help(RnM.Belt)\n",
    "#help(RnM.InvoluteGear)\n",
    "#UM.PrintAvailableUnits()"
   ]
  },
  {
   "cell_type": "code",
   "execution_count": 90,
   "id": "29e8ea3f",
   "metadata": {},
   "outputs": [
    {
     "data": {
      "text/latex": [
       "$\\displaystyle i$"
      ],
      "text/plain": [
       "_i"
      ]
     },
     "metadata": {},
     "output_type": "display_data"
    },
    {
     "data": {
      "text/latex": [
       "$\\displaystyle n_{1}$"
      ],
      "text/plain": [
       "_n_1"
      ]
     },
     "metadata": {},
     "output_type": "display_data"
    },
    {
     "data": {
      "text/latex": [
       "$\\displaystyle n_{2}$"
      ],
      "text/plain": [
       "_n_2"
      ]
     },
     "metadata": {},
     "output_type": "display_data"
    }
   ],
   "source": [
    "# creating belt\n",
    "Belt = RnM.Belt()\n",
    "\n",
    "display(Belt.i)   \n",
    "display(Belt.n_1)      \n",
    "display(Belt.n_2)"
   ]
  },
  {
   "cell_type": "code",
   "execution_count": 91,
   "id": "f07869a2",
   "metadata": {},
   "outputs": [
    {
     "data": {
      "text/latex": [
       "$\\displaystyle i$"
      ],
      "text/plain": [
       "_i"
      ]
     },
     "metadata": {},
     "output_type": "display_data"
    },
    {
     "data": {
      "text/latex": [
       "$\\displaystyle a$"
      ],
      "text/plain": [
       "_a"
      ]
     },
     "metadata": {},
     "output_type": "display_data"
    },
    {
     "data": {
      "text/latex": [
       "$\\displaystyle K_{A}$"
      ],
      "text/plain": [
       "_K_A"
      ]
     },
     "metadata": {},
     "output_type": "display_data"
    },
    {
     "data": {
      "text/latex": [
       "$\\displaystyle F_{t}$"
      ],
      "text/plain": [
       "_F_t"
      ]
     },
     "metadata": {},
     "output_type": "display_data"
    },
    {
     "data": {
      "text/latex": [
       "$\\displaystyle n_{1}$"
      ],
      "text/plain": [
       "_n_1"
      ]
     },
     "metadata": {},
     "output_type": "display_data"
    },
    {
     "data": {
      "text/latex": [
       "$\\displaystyle n_{2}$"
      ],
      "text/plain": [
       "_n_2"
      ]
     },
     "metadata": {},
     "output_type": "display_data"
    },
    {
     "data": {
      "text/latex": [
       "$\\displaystyle \\omega_{1}$"
      ],
      "text/plain": [
       "_omega_1"
      ]
     },
     "metadata": {},
     "output_type": "display_data"
    },
    {
     "data": {
      "text/latex": [
       "$\\displaystyle \\omega_{2}$"
      ],
      "text/plain": [
       "_omega_2"
      ]
     },
     "metadata": {},
     "output_type": "display_data"
    },
    {
     "data": {
      "text/latex": [
       "$\\displaystyle z_{1}$"
      ],
      "text/plain": [
       "_z_1"
      ]
     },
     "metadata": {},
     "output_type": "display_data"
    },
    {
     "data": {
      "text/latex": [
       "$\\displaystyle z_{2}$"
      ],
      "text/plain": [
       "_z_2"
      ]
     },
     "metadata": {},
     "output_type": "display_data"
    },
    {
     "data": {
      "text/latex": [
       "$\\displaystyle T_{1}$"
      ],
      "text/plain": [
       "_T_1"
      ]
     },
     "metadata": {},
     "output_type": "display_data"
    },
    {
     "data": {
      "text/latex": [
       "$\\displaystyle V_{1}$"
      ],
      "text/plain": [
       "_V_1"
      ]
     },
     "metadata": {},
     "output_type": "display_data"
    },
    {
     "data": {
      "text/latex": [
       "$\\displaystyle V_{2}$"
      ],
      "text/plain": [
       "_V_2"
      ]
     },
     "metadata": {},
     "output_type": "display_data"
    }
   ],
   "source": [
    "# creating gears\n",
    "Gears = RnM.InvoluteGear()\n",
    "\n",
    "display(Gears.i)\n",
    "display(Gears.a)\n",
    "display(Gears.K_A)\n",
    "display(Gears.F_t)\n",
    "display(Gears.n_1)\n",
    "display(Gears.n_2)\n",
    "display(Gears.omega_1)\n",
    "display(Gears.omega_2)\n",
    "display(Gears.z_1)\n",
    "display(Gears.z_2)\n",
    "display(Gears.T_1)\n",
    "display(Gears.V_1)\n",
    "display(Gears.V_2)\n"
   ]
  },
  {
   "cell_type": "code",
   "execution_count": 92,
   "id": "0f53f674",
   "metadata": {},
   "outputs": [
    {
     "data": {
      "text/plain": [
       "'[] transmission ratio (equivalent to gear ratio in case of gears)'"
      ]
     },
     "metadata": {},
     "output_type": "display_data"
    },
    {
     "data": {
      "text/plain": [
       "'[] gear ratio'"
      ]
     },
     "metadata": {},
     "output_type": "display_data"
    }
   ],
   "source": [
    "display(Belt.i.description)\n",
    "display(Gears.i.description)"
   ]
  },
  {
   "cell_type": "code",
   "execution_count": 93,
   "id": "029b39ea",
   "metadata": {},
   "outputs": [],
   "source": [
    "i_tot = Belt.i * Gears.i"
   ]
  },
  {
   "cell_type": "code",
   "execution_count": 94,
   "id": "7a42561d",
   "metadata": {},
   "outputs": [
    {
     "data": {
      "text/latex": [
       "$\\displaystyle i_{tot} = i i$"
      ],
      "text/plain": [
       "Eq(i_tot, _i*_i)"
      ]
     },
     "metadata": {},
     "output_type": "display_data"
    },
    {
     "data": {
      "text/latex": [
       "$\\displaystyle i i$"
      ],
      "text/plain": [
       "_i*_i"
      ]
     },
     "metadata": {},
     "output_type": "display_data"
    }
   ],
   "source": [
    "Belt.i = I_belt_gear * Gears.i\n",
    "\n",
    "HM.EqPrint('i_tot',i_tot.evalf())\n",
    "display(i_tot.evalf())  "
   ]
  },
  {
   "cell_type": "code",
   "execution_count": 95,
   "id": "8c5316c8",
   "metadata": {},
   "outputs": [
    {
     "data": {
      "text/latex": [
       "$\\displaystyle v_{karretjes} = \\frac{3.889 m_{}}{s_{}}$"
      ],
      "text/plain": [
       "Eq(v_karretjes, 3.889*m_/s_)"
      ]
     },
     "metadata": {},
     "output_type": "display_data"
    },
    {
     "data": {
      "text/latex": [
       "$\\displaystyle \\frac{3.88888888888889 m_{}}{s_{}}$"
      ],
      "text/plain": [
       "3.88888888888889*m_/s_"
      ]
     },
     "metadata": {},
     "output_type": "display_data"
    }
   ],
   "source": [
    "\n",
    "v_kar = v_kar * 1000 / 3600 * m_ /s_\n",
    "\n",
    "HM.EqPrint('v_karretjes',v_kar.evalf())\n",
    "display(v_kar.evalf())\n"
   ]
  },
  {
   "cell_type": "code",
   "execution_count": 96,
   "id": "05184684",
   "metadata": {},
   "outputs": [
    {
     "data": {
      "text/latex": [
       "$\\displaystyle r_{sprocket} = 0.2 m_{}$"
      ],
      "text/plain": [
       "Eq(r_sprocket, 0.2*m_)"
      ]
     },
     "metadata": {},
     "output_type": "display_data"
    }
   ],
   "source": [
    "r_sprocket = d_sprocket /2 /1000 * m_ / mm_\n",
    "\n",
    "end=HM.EqPrint('r_sprocket',r_sprocket)"
   ]
  },
  {
   "cell_type": "code",
   "execution_count": 97,
   "id": "3f388c3b",
   "metadata": {},
   "outputs": [
    {
     "data": {
      "text/latex": [
       "$\\displaystyle n_{sprocket} = 185.7 rpm_{}$"
      ],
      "text/plain": [
       "Eq(n_sprocket, 185.7*rpm_)"
      ]
     },
     "metadata": {},
     "output_type": "display_data"
    },
    {
     "data": {
      "text/latex": [
       "$\\displaystyle 185.680766940545 rpm_{}$"
      ],
      "text/plain": [
       "185.680766940545*rpm_"
      ]
     },
     "metadata": {},
     "output_type": "display_data"
    }
   ],
   "source": [
    "n_sprocket = v_kar / (2 * sp.pi * r_sprocket) * 60 * rpm_ * s_\n",
    "\n",
    "HM.EqPrint('n_sprocket',n_sprocket.evalf())\n",
    "display(n_sprocket.evalf())"
   ]
  },
  {
   "cell_type": "code",
   "execution_count": 98,
   "id": "e7414984",
   "metadata": {},
   "outputs": [
    {
     "data": {
      "text/latex": [
       "$\\displaystyle \\omega_{sprocket} = \\frac{19.44}{s_{}}$"
      ],
      "text/plain": [
       "Eq(omega_sprocket, 19.44/s_)"
      ]
     },
     "metadata": {},
     "output_type": "display_data"
    },
    {
     "data": {
      "text/latex": [
       "$\\displaystyle \\frac{19.4444444444444}{s_{}}$"
      ],
      "text/plain": [
       "19.4444444444444/s_"
      ]
     },
     "metadata": {},
     "output_type": "display_data"
    }
   ],
   "source": [
    "omega_sprocket = UM.All_to_SI(n_sprocket)   #to rad/s\n",
    "end=HM.EqPrint('omega_sprocket',omega_sprocket.evalf())\n",
    "display(omega_sprocket.evalf()) "
   ]
  },
  {
   "cell_type": "code",
   "execution_count": 99,
   "id": "bb6d7411",
   "metadata": {},
   "outputs": [
    {
     "data": {
      "text/latex": [
       "$\\displaystyle n_{sprocket} = 185.7 rpm_{}$"
      ],
      "text/plain": [
       "Eq(n_sprocket, 185.7*rpm_)"
      ]
     },
     "metadata": {},
     "output_type": "display_data"
    },
    {
     "data": {
      "text/latex": [
       "$\\displaystyle 185.680766940545 rpm_{}$"
      ],
      "text/plain": [
       "185.680766940545*rpm_"
      ]
     },
     "metadata": {},
     "output_type": "display_data"
    },
    {
     "data": {
      "text/latex": [
       "$\\displaystyle \\omega_{gear2} = \\frac{19.44}{s_{}}$"
      ],
      "text/plain": [
       "Eq(omega_gear2, 19.44/s_)"
      ]
     },
     "metadata": {},
     "output_type": "display_data"
    },
    {
     "data": {
      "text/latex": [
       "$\\displaystyle \\frac{19.4444444444444}{s_{}}$"
      ],
      "text/plain": [
       "19.4444444444444/s_"
      ]
     },
     "metadata": {},
     "output_type": "display_data"
    }
   ],
   "source": [
    "Gears.n_2 = n_sprocket\n",
    "Gears.omega_2 = omega_sprocket\n",
    "\n",
    "HM.EqPrint('n_sprocket',Gears.n_2.evalf())\n",
    "display(Gears.n_2.evalf())\n",
    "\n",
    "HM.EqPrint('omega_gear2',Gears.omega_2.evalf())\n",
    "display(Gears.omega_2.evalf())\n"
   ]
  },
  {
   "cell_type": "code",
   "execution_count": 100,
   "id": "b1cc4bb9",
   "metadata": {},
   "outputs": [
    {
     "data": {
      "text/latex": [
       "$\\displaystyle i_{tot} = 8.078$"
      ],
      "text/plain": [
       "Eq(i_tot, 8.078)"
      ]
     },
     "metadata": {},
     "output_type": "display_data"
    },
    {
     "data": {
      "text/latex": [
       "$\\displaystyle 8.0783811092309$"
      ],
      "text/plain": [
       "8.07838110923090"
      ]
     },
     "metadata": {},
     "output_type": "display_data"
    }
   ],
   "source": [
    "i_tot = n_motor / n_sprocket \n",
    "\n",
    "HM.EqPrint('i_tot',i_tot.evalf())\n",
    "display(i_tot.evalf())"
   ]
  },
  {
   "cell_type": "code",
   "execution_count": 101,
   "id": "5e4b5ebc",
   "metadata": {},
   "outputs": [
    {
     "data": {
      "text/latex": [
       "$\\displaystyle i_{gearbox} = 3.669$"
      ],
      "text/plain": [
       "Eq(i_gearbox, 3.669)"
      ]
     },
     "metadata": {},
     "output_type": "display_data"
    },
    {
     "data": {
      "text/latex": [
       "$\\displaystyle 3.66932807410087$"
      ],
      "text/plain": [
       "3.66932807410087"
      ]
     },
     "metadata": {},
     "output_type": "display_data"
    }
   ],
   "source": [
    "Gears.i = sp.sqrt(i_tot*5/3)\n",
    "HM.EqPrint('i_gearbox',Gears.i.evalf())\n",
    "display(Gears.i.evalf())"
   ]
  },
  {
   "cell_type": "code",
   "execution_count": 102,
   "id": "cd16b797",
   "metadata": {},
   "outputs": [
    {
     "data": {
      "text/latex": [
       "$\\displaystyle i_{belt} = 2.202$"
      ],
      "text/plain": [
       "Eq(i_belt, 2.202)"
      ]
     },
     "metadata": {},
     "output_type": "display_data"
    },
    {
     "data": {
      "text/latex": [
       "$\\displaystyle 2.20159684446052$"
      ],
      "text/plain": [
       "2.20159684446052"
      ]
     },
     "metadata": {},
     "output_type": "display_data"
    }
   ],
   "source": [
    "Belt.i = 3/5 * Gears.i\n",
    "HM.EqPrint('i_belt',Belt.i.evalf())    \n",
    "display(Belt.i.evalf())"
   ]
  },
  {
   "cell_type": "code",
   "execution_count": 103,
   "id": "5b9174e3",
   "metadata": {},
   "outputs": [],
   "source": [
    "#T_motor = P_motor / UM.All_to_SI(n_motor) / s_\n",
    "#HM.EqPrint('T_motor',T_motor.evalf())\n",
    "#display(T_motor.evalf())    "
   ]
  },
  {
   "cell_type": "code",
   "execution_count": 104,
   "id": "466bbab0",
   "metadata": {},
   "outputs": [
    {
     "data": {
      "text/latex": [
       "$\\displaystyle \\omega_{motor} = \\frac{157.1}{s_{}}$"
      ],
      "text/plain": [
       "Eq(omega_motor, 157.1/s_)"
      ]
     },
     "metadata": {},
     "output_type": "display_data"
    },
    {
     "data": {
      "text/latex": [
       "$\\displaystyle \\frac{157.07963267949}{s_{}}$"
      ],
      "text/plain": [
       "157.07963267949/s_"
      ]
     },
     "metadata": {},
     "output_type": "display_data"
    }
   ],
   "source": [
    "omega_motor = UM.All_to_SI(n_motor)   #to rad/s\n",
    "end=HM.EqPrint('omega_motor',omega_motor)\n",
    "display(omega_motor)"
   ]
  },
  {
   "cell_type": "code",
   "execution_count": 105,
   "id": "74ed9e03",
   "metadata": {},
   "outputs": [
    {
     "data": {
      "text/latex": [
       "$\\displaystyle n_{1}$"
      ],
      "text/plain": [
       "_n_1"
      ]
     },
     "metadata": {},
     "output_type": "display_data"
    },
    {
     "name": "stdout",
     "output_type": "stream",
     "text": [
      "    n_1 : [rpm] rotational speed pulling disk \n"
     ]
    }
   ],
   "source": [
    "HM.MyHelp(Belt.n_1)"
   ]
  },
  {
   "cell_type": "code",
   "execution_count": 106,
   "id": "0a9f713d",
   "metadata": {},
   "outputs": [
    {
     "data": {
      "text/latex": [
       "$\\displaystyle n_{1} = 1500.0 rpm_{}$"
      ],
      "text/plain": [
       "Eq(n_1, 1500.0*rpm_)"
      ]
     },
     "metadata": {},
     "output_type": "display_data"
    }
   ],
   "source": [
    "Belt.n_1 = n_motor\n",
    "end = HM.EqPrint('n_1',Belt.n_1.evalf())"
   ]
  },
  {
   "cell_type": "code",
   "execution_count": 107,
   "id": "f9b9fda0",
   "metadata": {},
   "outputs": [
    {
     "data": {
      "text/latex": [
       "$\\displaystyle n_{2} = 681.3 rpm_{}$"
      ],
      "text/plain": [
       "Eq(n_2, 681.3*rpm_)"
      ]
     },
     "metadata": {},
     "output_type": "display_data"
    }
   ],
   "source": [
    "Belt.n_2 = Belt.n_1 / Belt.i\n",
    "end = HM.EqPrint('n_2',Belt.n_2.evalf())"
   ]
  },
  {
   "cell_type": "code",
   "execution_count": 108,
   "id": "f81712f5",
   "metadata": {},
   "outputs": [
    {
     "data": {
      "text/latex": [
       "$\\displaystyle n_{1} = 681.3 rpm_{}$"
      ],
      "text/plain": [
       "Eq(n_1, 681.3*rpm_)"
      ]
     },
     "metadata": {},
     "output_type": "display_data"
    }
   ],
   "source": [
    "Gears.n_1 = Belt.n_2\n",
    "end = HM.EqPrint('n_1',Gears.n_1.evalf())"
   ]
  },
  {
   "cell_type": "code",
   "execution_count": 109,
   "id": "edb48932",
   "metadata": {},
   "outputs": [
    {
     "data": {
      "text/latex": [
       "$\\displaystyle \\text{True}$"
      ],
      "text/plain": [
       "True"
      ]
     },
     "execution_count": 109,
     "metadata": {},
     "output_type": "execute_result"
    }
   ],
   "source": [
    "abs(Gears.i.evalf() - (Gears.n_1 / Gears.n_2).evalf()) < 1e-10"
   ]
  },
  {
   "cell_type": "markdown",
   "id": "ceaf34ec",
   "metadata": {},
   "source": [
    "# V-belt smalprofiel Tabel 16.21\n",
    "\n",
    "P_motor > 3000 kW bij 1500  rpm   (door verliezen)\n",
    "\n",
    "gekozen => 112M   DIN 42 673 T1\n",
    "\n",
    "!! we moeten kijken of axle load niet te groot is"
   ]
  },
  {
   "cell_type": "markdown",
   "id": "594eba8a",
   "metadata": {},
   "source": [
    "![image](./images/Table_16-21.png)"
   ]
  },
  {
   "cell_type": "code",
   "execution_count": 110,
   "id": "d6c633d5",
   "metadata": {},
   "outputs": [],
   "source": [
    "# Gekozen door 112M DIN 42673 T1\n",
    "# narrow profile pulley DIN 2211T3 (Poly V-belt)\n"
   ]
  },
  {
   "cell_type": "code",
   "execution_count": 111,
   "id": "4c1bdcba",
   "metadata": {},
   "outputs": [
    {
     "data": {
      "text/latex": [
       "$\\displaystyle z$"
      ],
      "text/plain": [
       "_z"
      ]
     },
     "metadata": {},
     "output_type": "display_data"
    },
    {
     "name": "stdout",
     "output_type": "stream",
     "text": [
      "    z : [] number of belts\n"
     ]
    },
    {
     "data": {
      "text/latex": [
       "$\\displaystyle z = \\frac{{P}'}{c_{1} c_{2} \\left(P_{N} + U_{z}\\right)}$"
      ],
      "text/plain": [
       "Eq(z, _Pprime/(_c_1*_c_2*(_P_N + _U_z)))"
      ]
     },
     "metadata": {},
     "output_type": "display_data"
    },
    {
     "data": {
      "text/latex": [
       "$\\displaystyle \\frac{{P}'}{c_{1} c_{2} \\left(P_{N} + U_{z}\\right)}$"
      ],
      "text/plain": [
       "_Pprime/(_c_1*_c_2*(_P_N + _U_z))"
      ]
     },
     "metadata": {},
     "output_type": "display_data"
    },
    {
     "name": "stdout",
     "output_type": "stream",
     "text": [
      "    c_1 : [] angle factor when beta_1 < :  180°, {tabel 16-17}\n",
      "    c_2 : [] length factor depending on L_d, {tabel 16-17}\n",
      "    U_z : [W] ratio bonus when i>1, {tabel 16-16} \n",
      "    P_N : [W] nominal power of one belt or rib, {tabel 16-15} \n",
      "    Pprime : [W] Power to transmit with integrated safety factor\n"
     ]
    }
   ],
   "source": [
    "HM.MyHelp(Belt.z)\n",
    "HM.EqPrint('z',Belt.E16_29_NumberOfBelts())\n",
    "end = HM.MyHelp(Belt.E16_29_NumberOfBelts())\n"
   ]
  },
  {
   "cell_type": "code",
   "execution_count": 112,
   "id": "34be2137",
   "metadata": {},
   "outputs": [
    {
     "data": {
      "text/latex": [
       "$\\displaystyle z = 2$"
      ],
      "text/plain": [
       "Eq(z, 2)"
      ]
     },
     "metadata": {},
     "output_type": "display_data"
    }
   ],
   "source": [
    "# uit tabel 16_21\n",
    "Belt.z = 2\n",
    "end = HM.EqPrint('z',Belt.z)"
   ]
  },
  {
   "cell_type": "code",
   "execution_count": 113,
   "id": "433e4237",
   "metadata": {},
   "outputs": [
    {
     "data": {
      "text/latex": [
       "$\\displaystyle d_{1}$"
      ],
      "text/plain": [
       "_d_1"
      ]
     },
     "metadata": {},
     "output_type": "display_data"
    },
    {
     "name": "stdout",
     "output_type": "stream",
     "text": [
      "    d_1 : [m] diameter pulling disk\n"
     ]
    },
    {
     "data": {
      "text/latex": [
       "$\\displaystyle d_{dk}$"
      ],
      "text/plain": [
       "_d_dk"
      ]
     },
     "metadata": {},
     "output_type": "display_data"
    },
    {
     "name": "stdout",
     "output_type": "stream",
     "text": [
      "    d_dk : [mm] reference diameter of smaller disk, note explenation equation 16-36\n"
     ]
    },
    {
     "data": {
      "text/latex": [
       "$\\displaystyle d_{1} = 112 mm_{}$"
      ],
      "text/plain": [
       "Eq(d_1, 112*mm_)"
      ]
     },
     "metadata": {},
     "output_type": "display_data"
    },
    {
     "data": {
      "text/latex": [
       "$\\displaystyle d_{dk} = 112 mm_{}$"
      ],
      "text/plain": [
       "Eq(d_dk, 112*mm_)"
      ]
     },
     "metadata": {},
     "output_type": "display_data"
    }
   ],
   "source": [
    "HM.MyHelp(Belt.d_1)\n",
    "HM.MyHelp(Belt.d_dk)\n",
    "\n",
    "Belt.d_1 = 112 * mm_   #niet zeker of juiste diameter\n",
    "Belt.d_dk = Belt.d_1   #niet zeker\n",
    "\n",
    "HM.EqPrint('d_1',Belt.d_1)\n",
    "end = HM.EqPrint('d_dk',Belt.d_dk)\n"
   ]
  },
  {
   "cell_type": "markdown",
   "id": "f4396924",
   "metadata": {},
   "source": [
    "![image](./images/Table_16-7.png)"
   ]
  },
  {
   "cell_type": "code",
   "execution_count": null,
   "id": "9579eeb3",
   "metadata": {},
   "outputs": [
    {
     "data": {
      "text/latex": [
       "$\\displaystyle 1500 rpm_{}$"
      ],
      "text/plain": [
       "1500*rpm_"
      ]
     },
     "metadata": {},
     "output_type": "display_data"
    },
    {
     "ename": "",
     "evalue": "",
     "output_type": "error",
     "traceback": [
      "\u001b[1;31mThe Kernel crashed while executing code in the current cell or a previous cell. \n",
      "\u001b[1;31mPlease review the code in the cell(s) to identify a possible cause of the failure. \n",
      "\u001b[1;31mClick <a href='https://aka.ms/vscodeJupyterKernelCrash'>here</a> for more info. \n",
      "\u001b[1;31mView Jupyter <a href='command:jupyter.viewOutput'>log</a> for further details."
     ]
    }
   ],
   "source": [
    "display(Belt.n_1)"
   ]
  },
  {
   "cell_type": "code",
   "execution_count": 114,
   "id": "3b7432d1",
   "metadata": {},
   "outputs": [
    {
     "data": {
      "text/latex": [
       "$\\displaystyle i = \\frac{0.008929 d_{dg}}{mm_{}}$"
      ],
      "text/plain": [
       "Eq(i, 0.008929*_d_dg/mm_)"
      ]
     },
     "metadata": {},
     "output_type": "display_data"
    },
    {
     "data": {
      "text/latex": [
       "$\\displaystyle d_{dg} = 246.6 mm_{}$"
      ],
      "text/plain": [
       "Eq(d_dg, 246.6*mm_)"
      ]
     },
     "metadata": {},
     "output_type": "display_data"
    }
   ],
   "source": [
    "HM.EqPrint('i',Belt.E16_19A_TransmissionRatio())\n",
    "#end = HM.MyHelp(Belt.E16_19A_TransmissionRatio())\n",
    "#display(Belt.i.evalf())\n",
    "\n",
    "Belt.d_dg = Belt.i * Belt.d_dk\n",
    "\n",
    "end = HM.EqPrint('d_dg',Belt.d_dg.evalf())"
   ]
  },
  {
   "cell_type": "markdown",
   "id": "6a2d3f9b",
   "metadata": {},
   "source": [
    "![image](./images/Table_3-5b.png)"
   ]
  },
  {
   "cell_type": "code",
   "execution_count": 115,
   "id": "01143197",
   "metadata": {},
   "outputs": [
    {
     "data": {
      "text/latex": [
       "$\\displaystyle K_{A}$"
      ],
      "text/plain": [
       "_K_A"
      ]
     },
     "metadata": {},
     "output_type": "display_data"
    },
    {
     "name": "stdout",
     "output_type": "stream",
     "text": [
      "    K_A : [] correctionuse-factor {tabel 3-5}\n"
     ]
    },
    {
     "data": {
      "text/latex": [
       "$\\displaystyle K_{A}$"
      ],
      "text/plain": [
       "_K_A"
      ]
     },
     "metadata": {},
     "output_type": "display_data"
    },
    {
     "name": "stdout",
     "output_type": "stream",
     "text": [
      "    K_A : [] Operating factor table 3-5\n"
     ]
    }
   ],
   "source": [
    "HM.MyHelp(Belt.K_A)\n",
    "HM.MyHelp(Gears.K_A)"
   ]
  },
  {
   "cell_type": "code",
   "execution_count": 116,
   "id": "50093a15",
   "metadata": {},
   "outputs": [
    {
     "data": {
      "text/latex": [
       "$\\displaystyle K_{A belt} = 1.95$"
      ],
      "text/plain": [
       "Eq(K_A_belt, 1.95)"
      ]
     },
     "metadata": {},
     "output_type": "display_data"
    },
    {
     "data": {
      "text/latex": [
       "$\\displaystyle K_{A gear} = 2.4$"
      ],
      "text/plain": [
       "Eq(K_A_gear, 2.4)"
      ]
     },
     "metadata": {},
     "output_type": "display_data"
    }
   ],
   "source": [
    "Belt.K_A = 1.95\n",
    "Gears.K_A = 2.4\n",
    "\n",
    "HM.EqPrint('K_A_belt',Belt.K_A)\n",
    "end = HM.EqPrint('K_A_gear',Gears.K_A)"
   ]
  },
  {
   "cell_type": "markdown",
   "id": "ad7bcf8b",
   "metadata": {},
   "source": [
    "# narrow V-belt   - SPZ  (tabel 16_21)"
   ]
  },
  {
   "cell_type": "markdown",
   "id": "d269c3e2",
   "metadata": {},
   "source": [
    "![image](./images/Table_16-17c.png)"
   ]
  },
  {
   "cell_type": "code",
   "execution_count": 117,
   "id": "6f90bb73",
   "metadata": {},
   "outputs": [
    {
     "data": {
      "text/latex": [
       "$\\displaystyle c_{2}$"
      ],
      "text/plain": [
       "_c_2"
      ]
     },
     "metadata": {},
     "output_type": "display_data"
    },
    {
     "name": "stdout",
     "output_type": "stream",
     "text": [
      "    c_2 : [] length factor depending on L_d, {tabel 16-17}\n"
     ]
    }
   ],
   "source": [
    "HM.MyHelp(Belt.c_2)"
   ]
  },
  {
   "cell_type": "code",
   "execution_count": 118,
   "id": "36276c73",
   "metadata": {},
   "outputs": [
    {
     "data": {
      "text/latex": [
       "$\\displaystyle {L}'$"
      ],
      "text/plain": [
       "_Lprime"
      ]
     },
     "metadata": {},
     "output_type": "display_data"
    },
    {
     "name": "stdout",
     "output_type": "stream",
     "text": [
      "    Lprime : [mm] belt length, theoretical length\n"
     ]
    },
    {
     "data": {
      "text/latex": [
       "$\\displaystyle L$"
      ],
      "text/plain": [
       "_L"
      ]
     },
     "metadata": {},
     "output_type": "display_data"
    },
    {
     "name": "stdout",
     "output_type": "stream",
     "text": [
      "    L : [mm] belt length, reference length\n"
     ]
    },
    {
     "data": {
      "text/latex": [
       "$\\displaystyle L_{d}$"
      ],
      "text/plain": [
       "_L_d"
      ]
     },
     "metadata": {},
     "output_type": "display_data"
    },
    {
     "name": "stdout",
     "output_type": "stream",
     "text": [
      "    L_d : [mm] belt length, normed length\n"
     ]
    }
   ],
   "source": [
    "HM.MyHelp(Belt.Lprime)   #zelfde als L_d_prime denk ik\n",
    "HM.MyHelp(Belt.L)\n",
    "HM.MyHelp(Belt.L_d) # datum length   denk ik\n",
    "\n",
    "#verschil => prime is berekende lengte, maar kan je niet altijd kopen + nog wat speling/ uitrekking\n",
    "#L_d is de lengte genormaliseerd die je koopt  (denk ik)"
   ]
  },
  {
   "cell_type": "code",
   "execution_count": 119,
   "id": "def5121e",
   "metadata": {},
   "outputs": [
    {
     "data": {
      "text/latex": [
       "$\\displaystyle {L}' = 2 {e}' + 0.5 \\pi \\left(112 mm_{} + 139.1 \\pi^{0.5} mm_{}\\right) + \\frac{0.25 \\left(- 112 mm_{} + 139.1 \\pi^{0.5} mm_{}\\right)^{2}}{{e}'}$"
      ],
      "text/plain": [
       "Eq(Lprime, 2*_eprime + 0.5*pi*(112*mm_ + 139.1*pi**0.5*mm_) + 0.25*(-112*mm_ + 139.1*pi**0.5*mm_)**2/_eprime)"
      ]
     },
     "metadata": {},
     "output_type": "display_data"
    },
    {
     "data": {
      "text/latex": [
       "$\\displaystyle 2 {e}' + 0.5 \\pi \\left(112 mm_{} + 139.1 \\pi^{0.5} mm_{}\\right) + \\frac{0.25 \\left(- 112 mm_{} + 139.1 \\pi^{0.5} mm_{}\\right)^{2}}{{e}'}$"
      ],
      "text/plain": [
       "2*_eprime + 0.5*pi*(112*mm_ + 139.1*pi**0.5*mm_) + 0.25*(-112*mm_ + 139.1*pi**0.5*mm_)**2/_eprime"
      ]
     },
     "metadata": {},
     "output_type": "display_data"
    },
    {
     "name": "stdout",
     "output_type": "stream",
     "text": [
      "    eprime : [mm] e' :  the global shaft distance\n"
     ]
    }
   ],
   "source": [
    "HM.EqPrint('Lprime',Belt.E16_23_TheoreticalBeltLength())\n",
    "end = HM.MyHelp(Belt.E16_23_TheoreticalBeltLength())\n"
   ]
  },
  {
   "cell_type": "markdown",
   "id": "bdca98a7",
   "metadata": {},
   "source": [
    "![image](./images/Table_16-17a.png)"
   ]
  },
  {
   "cell_type": "code",
   "execution_count": 120,
   "id": "172a5208",
   "metadata": {},
   "outputs": [
    {
     "data": {
      "text/latex": [
       "$\\displaystyle \\beta_{1}$"
      ],
      "text/plain": [
       "_beta_1"
      ]
     },
     "metadata": {},
     "output_type": "display_data"
    },
    {
     "name": "stdout",
     "output_type": "stream",
     "text": [
      "    beta_1 : [] Circumferentialangle of the belt of the small disk\n"
     ]
    },
    {
     "data": {
      "text/latex": [
       "$\\displaystyle \\beta_{k}$"
      ],
      "text/plain": [
       "_beta_k"
      ]
     },
     "metadata": {},
     "output_type": "display_data"
    },
    {
     "name": "stdout",
     "output_type": "stream",
     "text": [
      "    beta_k : [] Circumferentialangle of the belt of the small disk\n"
     ]
    },
    {
     "data": {
      "text/latex": [
       "$\\displaystyle c_{1}$"
      ],
      "text/plain": [
       "_c_1"
      ]
     },
     "metadata": {},
     "output_type": "display_data"
    },
    {
     "name": "stdout",
     "output_type": "stream",
     "text": [
      "    c_1 : [] angle factor when beta_1 < :  180°, {tabel 16-17}\n"
     ]
    }
   ],
   "source": [
    "HM.MyHelp(Belt.beta_1)\n",
    "HM.MyHelp(Belt.beta_k)\n",
    "HM.MyHelp(Belt.c_1)\n"
   ]
  },
  {
   "cell_type": "markdown",
   "id": "4f07a64d",
   "metadata": {},
   "source": [
    "![image](./images/Table_16-16b.png)"
   ]
  },
  {
   "cell_type": "code",
   "execution_count": 121,
   "id": "e4ab5297",
   "metadata": {},
   "outputs": [
    {
     "data": {
      "text/latex": [
       "$\\displaystyle U_{z}$"
      ],
      "text/plain": [
       "_U_z"
      ]
     },
     "metadata": {},
     "output_type": "display_data"
    },
    {
     "name": "stdout",
     "output_type": "stream",
     "text": [
      "    U_z : [W] ratio bonus when i>1, {tabel 16-16} \n"
     ]
    }
   ],
   "source": [
    "HM.MyHelp(Belt.U_z)"
   ]
  },
  {
   "cell_type": "code",
   "execution_count": 128,
   "id": "728e4df7",
   "metadata": {},
   "outputs": [
    {
     "data": {
      "text/latex": [
       "$\\displaystyle z = \\frac{1.95 P}{c_{1} c_{2} \\left(P_{N} + U_{z}\\right)}$"
      ],
      "text/plain": [
       "Eq(z, 1.95*_P/(_c_1*_c_2*(_P_N + _U_z)))"
      ]
     },
     "metadata": {},
     "output_type": "display_data"
    },
    {
     "data": {
      "text/latex": [
       "$\\displaystyle \\frac{1.95 P}{c_{1} c_{2} \\left(P_{N} + U_{z}\\right)}$"
      ],
      "text/plain": [
       "1.95*_P/(_c_1*_c_2*(_P_N + _U_z))"
      ]
     },
     "metadata": {},
     "output_type": "display_data"
    },
    {
     "name": "stdout",
     "output_type": "stream",
     "text": [
      "    c_1 : [] angle factor when beta_1 < :  180°, {tabel 16-17}\n",
      "    c_2 : [] length factor depending on L_d, {tabel 16-17}\n",
      "    U_z : [W] ratio bonus when i>1, {tabel 16-16} \n",
      "    P_N : [W] nominal power of one belt or rib, {tabel 16-15} \n",
      "    P : [W] Power to transmit (nominal value)\n"
     ]
    }
   ],
   "source": [
    "HM.EqPrint('z',Belt.E16_29_NumberOfBelts())\n",
    "end = HM.MyHelp(Belt.E16_29_NumberOfBelts())"
   ]
  },
  {
   "cell_type": "code",
   "execution_count": 123,
   "id": "897d52e3",
   "metadata": {},
   "outputs": [
    {
     "data": {
      "text/latex": [
       "$\\displaystyle P_{transmitted power} = b \\kappa t v \\left(- \\frac{0.008929 E_{b} t}{mm_{}} - 0.001 v^{2} \\rho + \\sigma_{max}\\right)$"
      ],
      "text/plain": [
       "Eq(P_transmitted power, _b*_kappa*_t*_v*(-0.008929*_E_b*_t/mm_ - 0.001*_v**2*_rho + _sigma_max))"
      ]
     },
     "metadata": {},
     "output_type": "display_data"
    },
    {
     "data": {
      "text/latex": [
       "$\\displaystyle b \\kappa t v \\left(- \\frac{0.008929 E_{b} t}{mm_{}} - 0.001 v^{2} \\rho + \\sigma_{max}\\right)$"
      ],
      "text/plain": [
       "_b*_kappa*_t*_v*(-0.008929*_E_b*_t/mm_ - 0.001*_v**2*_rho + _sigma_max)"
      ]
     },
     "metadata": {},
     "output_type": "display_data"
    },
    {
     "name": "stdout",
     "output_type": "stream",
     "text": [
      "    kappa : [] utilisation factor\n",
      "    rho : [kg/dm³] belt denistiy {tabel 16-1} \n",
      "    b : [mm] belt width, table {tabel 16-9}\n",
      "    v : [m/s] belt velosity\n",
      "    t : [mm] belt thickness \n",
      "    E_b : [N/mm²] ideal elasticity modulus {tabel 16-1}\n",
      "    sigma_max : [N/mm²] maximum permissible tension {tabel 16-1}\n"
     ]
    }
   ],
   "source": [
    "HM.EqPrint('P_transmitted power',Belt.E16_17_TransmittablePower())\n",
    "end = HM.MyHelp(Belt.E16_17_TransmittablePower())"
   ]
  },
  {
   "cell_type": "code",
   "execution_count": 124,
   "id": "0293d2e0",
   "metadata": {},
   "outputs": [
    {
     "data": {
      "text/latex": [
       "$\\displaystyle F_{t} = \\frac{{P}'}{v}$"
      ],
      "text/plain": [
       "Eq(F_t, _Pprime/_v)"
      ]
     },
     "metadata": {},
     "output_type": "display_data"
    },
    {
     "data": {
      "text/latex": [
       "$\\displaystyle \\frac{{P}'}{v}$"
      ],
      "text/plain": [
       "_Pprime/_v"
      ]
     },
     "metadata": {},
     "output_type": "display_data"
    },
    {
     "name": "stdout",
     "output_type": "stream",
     "text": [
      "    v : [m/s] belt velosity\n",
      "    Pprime : [W] Power to transmit with integrated safety factor\n"
     ]
    }
   ],
   "source": [
    "HM.EqPrint('F_t',Belt.E16_27_FrictionForce())\n",
    "end = HM.MyHelp(Belt.E16_27_FrictionForce())"
   ]
  },
  {
   "cell_type": "code",
   "execution_count": 125,
   "id": "360704f9",
   "metadata": {},
   "outputs": [
    {
     "data": {
      "text/latex": [
       "$\\displaystyle P_{prime} = 1.95 P$"
      ],
      "text/plain": [
       "Eq(P_prime, 1.95*_P)"
      ]
     },
     "metadata": {},
     "output_type": "display_data"
    }
   ],
   "source": [
    "Belt.Pprime = Belt.P * Belt.K_A\n",
    "end = HM.EqPrint('P_prime',Belt.Pprime)"
   ]
  },
  {
   "cell_type": "code",
   "execution_count": 126,
   "id": "55f5db62",
   "metadata": {},
   "outputs": [
    {
     "data": {
      "text/latex": [
       "$\\displaystyle F_{t} = \\frac{1.95 P}{v}$"
      ],
      "text/plain": [
       "Eq(F_t, 1.95*_P/_v)"
      ]
     },
     "metadata": {},
     "output_type": "display_data"
    }
   ],
   "source": [
    "end = HM.EqPrint('F_t',Belt.E16_27_FrictionForce())"
   ]
  },
  {
   "cell_type": "code",
   "execution_count": 127,
   "id": "b5d80b9f",
   "metadata": {},
   "outputs": [
    {
     "data": {
      "text/latex": [
       "$\\displaystyle \\eta$"
      ],
      "text/plain": [
       "_eta"
      ]
     },
     "metadata": {},
     "output_type": "display_data"
    },
    {
     "name": "stdout",
     "output_type": "stream",
     "text": [
      "    eta : [%] power efficiency, during caluculations 100% efficency is assumed\n"
     ]
    }
   ],
   "source": [
    "HM.MyHelp(Belt.eta)"
   ]
  }
 ],
 "metadata": {
  "kernelspec": {
   "display_name": "Python 3",
   "language": "python",
   "name": "python3"
  },
  "language_info": {
   "codemirror_mode": {
    "name": "ipython",
    "version": 3
   },
   "file_extension": ".py",
   "mimetype": "text/x-python",
   "name": "python",
   "nbconvert_exporter": "python",
   "pygments_lexer": "ipython3",
   "version": "3.13.7"
  }
 },
 "nbformat": 4,
 "nbformat_minor": 5
}
